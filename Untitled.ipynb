{
 "cells": [
  {
   "cell_type": "code",
   "execution_count": 3,
   "metadata": {},
   "outputs": [
    {
     "name": "stdout",
     "output_type": "stream",
     "text": [
      "\u001b[33mDEPRECATION: Python 2.7 reached the end of its life on January 1st, 2020. Please upgrade your Python as Python 2.7 is no longer maintained. pip 21.0 will drop support for Python 2.7 in January 2021. More details about Python 2 support in pip can be found at https://pip.pypa.io/en/latest/development/release-process/#python-2-support pip 21.0 will remove support for this functionality.\u001b[0m\n",
      "Defaulting to user installation because normal site-packages is not writeable\n",
      "Requirement already satisfied: pykrige in /Users/liyunan/Library/Python/2.7/lib/python/site-packages (1.4.1)\n"
     ]
    }
   ],
   "source": [
    "!pip install pykrige"
   ]
  },
  {
   "cell_type": "code",
   "execution_count": 2,
   "metadata": {},
   "outputs": [
    {
     "name": "stdout",
     "output_type": "stream",
     "text": [
      "\u001b[33mDEPRECATION: Python 2.7 reached the end of its life on January 1st, 2020. Please upgrade your Python as Python 2.7 is no longer maintained. pip 21.0 will drop support for Python 2.7 in January 2021. More details about Python 2 support in pip can be found at https://pip.pypa.io/en/latest/development/release-process/#python-2-support pip 21.0 will remove support for this functionality.\u001b[0m\n",
      "Defaulting to user installation because normal site-packages is not writeable\n",
      "Requirement already satisfied: sklearn in /Users/liyunan/Library/Python/2.7/lib/python/site-packages (0.0)\n",
      "Requirement already satisfied: scikit-learn in /Users/liyunan/Library/Python/2.7/lib/python/site-packages (from sklearn) (0.20.4)\n",
      "Requirement already satisfied: numpy>=1.8.2 in /Users/liyunan/Library/Python/2.7/lib/python/site-packages (from scikit-learn->sklearn) (1.16.6)\n",
      "Requirement already satisfied: scipy>=0.13.3 in /Users/liyunan/Library/Python/2.7/lib/python/site-packages (from scikit-learn->sklearn) (1.2.3)\n"
     ]
    }
   ],
   "source": [
    "!pip install sklearn"
   ]
  },
  {
   "cell_type": "code",
   "execution_count": 1,
   "metadata": {},
   "outputs": [
    {
     "ename": "ModuleNotFoundError",
     "evalue": "No module named 'sklearn'",
     "output_type": "error",
     "traceback": [
      "\u001b[0;31m---------------------------------------------------------------------------\u001b[0m",
      "\u001b[0;31mModuleNotFoundError\u001b[0m                       Traceback (most recent call last)",
      "\u001b[0;32m<ipython-input-1-1fae650ad09a>\u001b[0m in \u001b[0;36m<module>\u001b[0;34m\u001b[0m\n\u001b[1;32m      1\u001b[0m \u001b[0;32mimport\u001b[0m \u001b[0msys\u001b[0m\u001b[0;34m\u001b[0m\u001b[0;34m\u001b[0m\u001b[0m\n\u001b[1;32m      2\u001b[0m \u001b[0;34m\u001b[0m\u001b[0m\n\u001b[0;32m----> 3\u001b[0;31m \u001b[0;32mfrom\u001b[0m \u001b[0msklearn\u001b[0m\u001b[0;34m.\u001b[0m\u001b[0msvm\u001b[0m \u001b[0;32mimport\u001b[0m \u001b[0mSVR\u001b[0m\u001b[0;34m\u001b[0m\u001b[0;34m\u001b[0m\u001b[0m\n\u001b[0m\u001b[1;32m      4\u001b[0m \u001b[0;32mfrom\u001b[0m \u001b[0msklearn\u001b[0m\u001b[0;34m.\u001b[0m\u001b[0mensemble\u001b[0m \u001b[0;32mimport\u001b[0m \u001b[0mRandomForestRegressor\u001b[0m\u001b[0;34m\u001b[0m\u001b[0;34m\u001b[0m\u001b[0m\n\u001b[1;32m      5\u001b[0m \u001b[0;32mfrom\u001b[0m \u001b[0msklearn\u001b[0m\u001b[0;34m.\u001b[0m\u001b[0mlinear_model\u001b[0m \u001b[0;32mimport\u001b[0m \u001b[0mLinearRegression\u001b[0m\u001b[0;34m\u001b[0m\u001b[0;34m\u001b[0m\u001b[0m\n",
      "\u001b[0;31mModuleNotFoundError\u001b[0m: No module named 'sklearn'"
     ]
    }
   ],
   "source": [
    "import sys\n",
    "\n",
    "from sklearn.svm import SVR\n",
    "from sklearn.ensemble import RandomForestRegressor\n",
    "from sklearn.linear_model import LinearRegression\n",
    "from sklearn.datasets import fetch_california_housing\n",
    "\n",
    "from pykrige.rk import RegressionKriging\n",
    "from pykrige.compat import train_test_split\n",
    "\n",
    "svr_model = SVR(C=0.1, gamma=\"auto\")\n",
    "rf_model = RandomForestRegressor(n_estimators=100)\n",
    "lr_model = LinearRegression(normalize=True, copy_X=True, fit_intercept=False)\n",
    "\n",
    "models = [svr_model, rf_model, lr_model]\n",
    "\n",
    "try:\n",
    "    housing = fetch_california_housing()\n",
    "except PermissionError:\n",
    "    # this dataset can occasionally fail to download on Windows\n",
    "    sys.exit(0)\n",
    "\n",
    "# take the first 5000 as Kriging is memory intensive\n",
    "p = housing[\"data\"][:5000, :-2]\n",
    "x = housing[\"data\"][:5000, -2:]\n",
    "target = housing[\"target\"][:5000]\n",
    "\n",
    "p_train, p_test, x_train, x_test, target_train, target_test = train_test_split(\n",
    "    p, x, target, test_size=0.3, random_state=42\n",
    ")\n",
    "\n",
    "for m in models:\n",
    "    print(\"=\" * 40)\n",
    "    print(\"regression model:\", m.__class__.__name__)\n",
    "    m_rk = RegressionKriging(regression_model=m, n_closest_points=10)\n",
    "    m_rk.fit(p_train, x_train, target_train)\n",
    "    print(\"Regression Score: \", m_rk.regression_model.score(p_test, target_test))\n",
    "    print(\"RK score: \", m_rk.score(p_test, x_test, target_test))"
   ]
  },
  {
   "cell_type": "code",
   "execution_count": 2,
   "metadata": {},
   "outputs": [
    {
     "ename": "ModuleNotFoundError",
     "evalue": "No module named 'pykrige'",
     "output_type": "error",
     "traceback": [
      "\u001b[0;31m---------------------------------------------------------------------------\u001b[0m",
      "\u001b[0;31mModuleNotFoundError\u001b[0m                       Traceback (most recent call last)",
      "\u001b[0;32m<ipython-input-2-8b1f091cb7fd>\u001b[0m in \u001b[0;36m<module>\u001b[0;34m\u001b[0m\n\u001b[1;32m      1\u001b[0m \u001b[0;32mimport\u001b[0m \u001b[0mnumpy\u001b[0m \u001b[0;32mas\u001b[0m \u001b[0mnp\u001b[0m\u001b[0;34m\u001b[0m\u001b[0;34m\u001b[0m\u001b[0m\n\u001b[0;32m----> 2\u001b[0;31m \u001b[0;32mfrom\u001b[0m \u001b[0mpykrige\u001b[0m\u001b[0;34m.\u001b[0m\u001b[0mok\u001b[0m \u001b[0;32mimport\u001b[0m \u001b[0mOrdinaryKriging\u001b[0m\u001b[0;34m\u001b[0m\u001b[0;34m\u001b[0m\u001b[0m\n\u001b[0m\u001b[1;32m      3\u001b[0m \u001b[0;32mfrom\u001b[0m \u001b[0mpykrige\u001b[0m\u001b[0;34m.\u001b[0m\u001b[0muk\u001b[0m \u001b[0;32mimport\u001b[0m \u001b[0mUniversalKriging\u001b[0m\u001b[0;34m\u001b[0m\u001b[0;34m\u001b[0m\u001b[0m\n\u001b[1;32m      4\u001b[0m \u001b[0;32mfrom\u001b[0m \u001b[0mmatplotlib\u001b[0m \u001b[0;32mimport\u001b[0m \u001b[0mpyplot\u001b[0m \u001b[0;32mas\u001b[0m \u001b[0mplt\u001b[0m\u001b[0;34m\u001b[0m\u001b[0;34m\u001b[0m\u001b[0m\n\u001b[1;32m      5\u001b[0m \u001b[0;32mimport\u001b[0m \u001b[0mgstools\u001b[0m \u001b[0;32mas\u001b[0m \u001b[0mgs\u001b[0m\u001b[0;34m\u001b[0m\u001b[0;34m\u001b[0m\u001b[0m\n",
      "\u001b[0;31mModuleNotFoundError\u001b[0m: No module named 'pykrige'"
     ]
    }
   ],
   "source": [
    "import numpy as np\n",
    "from pykrige.ok import OrdinaryKriging\n",
    "from pykrige.uk import UniversalKriging\n",
    "from matplotlib import pyplot as plt\n",
    "import gstools as gs\n",
    "import pandas as pd\n",
    "from mpl_toolkits.axes_grid1.axes_divider import make_axes_locatable\n",
    "from mpl_toolkits.axes_grid1.colorbar import colorbar\n",
    "\n",
    "col_Names=[\"StationName\", \"Latitude\", \"Longitude\"]\n",
    "\n",
    "df=pd.read_csv('StationCode.txt', delimiter=' ', names=col_Names)\n",
    "\n",
    "df.head()\n",
    "#print(df)\n",
    "\n",
    "Latitude_list = df[\"Latitude\"].tolist()\n",
    "Longitude_list = df[\"Longitude\"].tolist()\n",
    "StationName_list = df[\"StationName\"].tolist()\n",
    "\n",
    "BBox=(min(Longitude_list),max(Longitude_list),min(Latitude_list),max(Latitude_list),)\n",
    "#print(BBox)\n",
    "\n",
    "BBox1=(-73.7265,-73.6372,3.8797,4)\n",
    "\n",
    "ruh_m = plt.imread('map_BBox1.png')\n",
    "#https://www.openstreetmap.org/export#map=12/3.9382/-73.6781\n",
    "\n",
    "fig, ax = plt.subplots(figsize = (8,12))\n",
    "ax.scatter(Longitude_list, Latitude_list, zorder=1, alpha= 1, c='b', s=10)\n",
    "\n",
    "for i, txt in enumerate(StationName_list):\n",
    "    ax.annotate(txt, (Longitude_list[i], Latitude_list[i]))\n",
    "\n",
    "#ax.set_title('Spatial Data')\n",
    "ax.set_xlim(BBox1[0],BBox1[1])\n",
    "ax.set_ylim(BBox1[2],BBox1[3])\n",
    "ax.imshow(ruh_m, zorder=0, extent = BBox1, aspect= 'equal')\n",
    "#plt.ticklabel_format(axis='x', style='sci')\n",
    "#plt.show()\n",
    "\n",
    "##\n",
    "\n",
    "\n",
    "df['Porosity']=[0.2,0.3,0.5,0.8,0.6,0.7,0.5,0.7,0.8,0.56,0.89,0.85,0.88]\n",
    "df['Permeability']=[0.8,0.6,0.7,0.8,0,0,0,0,0,0,0,0,0]\n",
    "\n",
    "\n",
    "data=df.loc[:,['Latitude','Longitude','Porosity']].values\n",
    "# conditioning data\n",
    "print(data)\n",
    "# grid definition for output field\n",
    "gridx = np.linspace(min(Longitude_list),max(Longitude_list), 20)\n",
    "print(gridx)\n",
    "gridy = np.linspace(min(Latitude_list),max(Latitude_list), 20)\n",
    "print(gridy)\n",
    "\n",
    "# a GSTools based covariance model\n",
    "cov_model = gs.Gaussian(dim=2, len_scale=4, anis=0.2, angles=-0.5, var=0.5, nugget=0.1)\n",
    "# ordinary kriging with pykrige\n",
    "OK1 = OrdinaryKriging(data[:, 0], data[:, 1], data[:, 2], cov_model)\n",
    "z1, ss1 = OK1.execute(\"grid\", gridx, gridy)\n",
    "#plt.imshow(z1, origin=\"lower\")\n",
    "fig, bx = plt.subplots(figsize=(8,12))\n",
    "bx1=bx.imshow(z1,  origin=\"lower\", extent=[BBox[0],BBox[1],BBox[2],BBox[3]])\n",
    "bx.set_aspect(2) \n",
    "\n",
    "\n",
    "UK = UniversalKriging(data[:, 0],data[:, 1],data[:, 2],variogram_model=\"gaussian\", drift_terms=[\"regional_linear\"])\n",
    "\n",
    "z, ss = UK.execute(\"grid\", gridx, gridy)\n",
    "\n",
    "fig, bx = plt.subplots(figsize=(8,12))\n",
    "bx2=bx.imshow(z, origin=\"lower\", extent=[BBox[0],BBox[1],BBox[2],BBox[3]]) # origin=\"lower\", extent=[BBox[0],BBox[1],BBox[2],BBox[3]])\n",
    "bx.set_aspect(2) \n",
    "cb_ax = fig.add_axes([0.85, 0.1, 0.02, 0.8])\n",
    "cbar = fig.colorbar(bx2, cax=cb_ax)\n",
    "plt.show()\n",
    "\n"
   ]
  },
  {
   "cell_type": "code",
   "execution_count": 1,
   "metadata": {},
   "outputs": [
    {
     "name": "stdout",
     "output_type": "stream",
     "text": [
      "Note: you may need to restart the kernel to use updated packages.\n"
     ]
    }
   ],
   "source": [
    "pip show pykrige"
   ]
  },
  {
   "cell_type": "code",
   "execution_count": null,
   "metadata": {},
   "outputs": [],
   "source": []
  }
 ],
 "metadata": {
  "kernelspec": {
   "display_name": "Python 3.8.1 64-bit",
   "language": "python",
   "name": "python38164bit19581d967bfc4dfaaa16dcdd3e9f1c3b"
  },
  "language_info": {
   "codemirror_mode": {
    "name": "ipython",
    "version": 3
   },
   "file_extension": ".py",
   "mimetype": "text/x-python",
   "name": "python",
   "nbconvert_exporter": "python",
   "pygments_lexer": "ipython3",
   "version": "3.8.1"
  }
 },
 "nbformat": 4,
 "nbformat_minor": 4
}
